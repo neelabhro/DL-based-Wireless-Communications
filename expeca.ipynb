{
  "nbformat": 4,
  "nbformat_minor": 0,
  "metadata": {
    "colab": {
      "name": "expeca.ipynb",
      "provenance": [],
      "collapsed_sections": [],
      "include_colab_link": true
    },
    "kernelspec": {
      "name": "python3",
      "display_name": "Python 3"
    },
    "accelerator": "GPU"
  },
  "cells": [
    {
      "cell_type": "markdown",
      "metadata": {
        "id": "view-in-github",
        "colab_type": "text"
      },
      "source": [
        "<a href=\"https://colab.research.google.com/github/neelabhro/DL-based-Wireless-Communications/blob/main/expeca.ipynb\" target=\"_parent\"><img src=\"https://colab.research.google.com/assets/colab-badge.svg\" alt=\"Open In Colab\"/></a>"
      ]
    },
    {
      "cell_type": "markdown",
      "metadata": {
        "id": "YBW8ZcnRvbXn"
      },
      "source": [
        "# Hands On - Simple Autoencoder Communication System Example\n",
        "## In this notebook we show how to implement an autoencoder communication system in tensorflow\n",
        "\n",
        "By Sebastian Cammerer and Sebastian D&ouml;rner.  \n",
        "Contact [cammerer@inue.uni-stuttgart.de](mailto:cammerer@inue.uni-stuttgart.de), [doerner@inue.uni-stuttgart.de](mailto:doerner@inue.uni-stuttgart.de)\n",
        "\n",
        "This code is provided as supplementary material to the ETI blog article [LINK TBD](TBD).\n",
        "It is licensed under the GPLv2 license. If you in any way use this code for research that results in publications, please cite it appropriately."
      ]
    },
    {
      "cell_type": "markdown",
      "metadata": {
        "id": "eaad5OIO9ECD"
      },
      "source": [
        "At first we need to import the required libraries: tensorflow, to perform computing graph based training of the NN; numpy, for basic computations and to feed the NN; matplotlib, to plot our results."
      ]
    },
    {
      "cell_type": "code",
      "metadata": {
        "id": "2u8Ufw5AuwmW",
        "colab": {
          "base_uri": "https://localhost:8080/"
        },
        "outputId": "45e34559-0b6d-4736-9c0a-f5982ecc7b4a"
      },
      "source": [
        "import tensorflow.compat.v1 as tf\n",
        "tf.disable_v2_behavior()\n",
        "import numpy as np\n",
        "import matplotlib.pyplot as plt"
      ],
      "execution_count": null,
      "outputs": [
        {
          "output_type": "stream",
          "text": [
            "WARNING:tensorflow:From /usr/local/lib/python3.7/dist-packages/tensorflow/python/compat/v2_compat.py:96: disable_resource_variables (from tensorflow.python.ops.variable_scope) is deprecated and will be removed in a future version.\n",
            "Instructions for updating:\n",
            "non-resource variables are not supported in the long term\n"
          ],
          "name": "stdout"
        }
      ]
    },
    {
      "cell_type": "markdown",
      "metadata": {
        "id": "Xeh_RcM-vZaJ"
      },
      "source": [
        "Then we need to define the main parameters of the autoencoder, k and n."
      ]
    },
    {
      "cell_type": "code",
      "metadata": {
        "id": "tJirZ15NvSmb"
      },
      "source": [
        "k = 8          # Number of information bits per message, i.e., M=2**k\n",
        "n = 8          # Number of real channel uses per message\n",
        "M=2**k         # Number of messages"
      ],
      "execution_count": null,
      "outputs": []
    },
    {
      "cell_type": "markdown",
      "metadata": {
        "id": "suITaEW3wkYj"
      },
      "source": [
        "Now we start building our model in tensorflow. For this simple example, we define all variables in the tensorflow default graph. We begin with one of the most basic parameters in DL, the batch_size. This defines the amount of samples within a mini-batch that is used for stochastic gradient computation. In our case we want this to be a flexible amount to later, during training, be able to adjust this to get more accurate gradients. Therefore, and given the fact that we can generate as many samples as we want on the fly, we define the batch_size as a feedable scalar integer.\n",
        "\n",
        "Now we can create the messages we want to transmit in this batch. They are simple drawn from a random uniform distribution.\n",
        "\n",
        "And to efficiently feed them to the first dense NN layer of the transmitter part, we transform them to so called one-hot vectors."
      ]
    },
    {
      "cell_type": "code",
      "metadata": {
        "id": "Gn1ZlSJcwgEI"
      },
      "source": [
        "# AUTOENCODER SYSTEM MODEL\n",
        "batch_size = tf.placeholder(tf.int32,shape=[])\n",
        "s = tf.random.uniform(shape=[batch_size],minval=0,maxval=M,dtype=tf.int32)\n",
        "s_one_hot = tf.one_hot(s,depth=M)"
      ],
      "execution_count": null,
      "outputs": []
    },
    {
      "cell_type": "markdown",
      "metadata": {
        "id": "TcD_VWmrrv60"
      },
      "source": [
        "This tensor now holds batch_size vectors of length M, where only one entry is set to 1.0 while all other entries are 0.0.\n",
        "Let’s define the transmitter part. Only two dense layers are already enough to perform a transformation from messages to real valued channel uses. This is basically a simple lookup-table transformation that could also be implemented by a single matrix of trainable weights, but for simplicity reasons we use default tensorflow/keras dense layers in the following. The first dense transmitter layer shall be “relu” activated and can have any number of units, we chose M because the samples of input s_one_hot are also of length M. The second dense layer is required to have n units, which form the output of the transmitter, and shall not have any activation function, since we want the transmitter to be able to output any real valued numbers.\n",
        "\n",
        "To prevent the transmitter from learning unnecessarily large outputs and becoming numerically instable, we normalize the average power of all transmitter outputs in the mini-batch to equal 1.0."
      ]
    },
    {
      "cell_type": "code",
      "metadata": {
        "id": "rZthiRTdxQuX"
      },
      "source": [
        "# Transmitter\n",
        "tx = tf.keras.layers.Dense(units=M,activation=\"relu\")(s_one_hot)\n",
        "tx = tf.keras.layers.Dense(units=n,activation=None)(tx)\n",
        "x = tx / tf.sqrt(tf.reduce_mean(tf.square(tx)))"
      ],
      "execution_count": null,
      "outputs": []
    },
    {
      "cell_type": "markdown",
      "metadata": {
        "id": "wX8QPpMgr1qD"
      },
      "source": [
        "Now x is the output of our transmitter, next comes the channel. We chose a basic additive white Gaussian noise (AWGN) channel that simply adds scaled normal distributed real values on top of x. But to be able to adaptively change the noise power and thereby the signal to noise ratio (SNR), we implement the noise standard deviation as a feedable tensorflow placeholder.\n",
        "\n",
        "Then we simply draw a noise tensor of the same shape as x from a normal distribution with the standard deviation given by the placeholder.\n",
        "\n",
        "Now we simply add this random noise tensor on top of x to get y, which are the received messages."
      ]
    },
    {
      "cell_type": "code",
      "metadata": {
        "id": "bSCBM61g8Tg6"
      },
      "source": [
        "# Channel\n",
        "noise_std = tf.placeholder(dtype=tf.float32,shape=[])\n",
        "noise = tf.random.normal(shape=tf.shape(x),stddev=noise_std)\n",
        "y = x + noise"
      ],
      "execution_count": null,
      "outputs": []
    },
    {
      "cell_type": "markdown",
      "metadata": {
        "id": "bxDp1H9Er9Ye"
      },
      "source": [
        "With the channel being the penalty layer of our autoencoder, we now need a receiver part that produces a reproduction s_hat given y. This receiver part consists of a first dense layer that can have an arbitrary amount of units, we chose M, and is required to have a non-linear activation, we chose “relu”.\n",
        "\n",
        "Depending on the complexity of the channel model we could now add several of those layers to our model to increase the complexity and capabilities of the neural network. But for the simple AWGN channel, one input and one output layer is enough at receiver side. The dense output layer is required to have M units, since we want to produce a prediction on the probability of each possible message, and the output shall be so called “logits”, which means that no activation function is needed."
      ]
    },
    {
      "cell_type": "code",
      "metadata": {
        "id": "-RV19ubKCUlr"
      },
      "source": [
        "# Receiver\n",
        "rx = tf.keras.layers.Dense(units=M, activation=\"relu\")(y)\n",
        "s_hat = tf.keras.layers.Dense(units=M, activation=None)(rx)"
      ],
      "execution_count": null,
      "outputs": []
    },
    {
      "cell_type": "markdown",
      "metadata": {
        "id": "81J8pAlHsIKO"
      },
      "source": [
        "Now the autoencoder is fully described, we can feed in messages and get predictions as an output. What is still missing is a loss function that calculates the current performance of the model by comparing the input s with the output s_hat. We use a default cross entropy loss function that inherently activates the logits with “softmax” and accepts sparse labels."
      ]
    },
    {
      "cell_type": "code",
      "metadata": {
        "id": "Idz5II6EJhx_"
      },
      "source": [
        "# Loss function\n",
        "cross_entropy = tf.losses.sparse_softmax_cross_entropy(labels=s,logits=s_hat)"
      ],
      "execution_count": null,
      "outputs": []
    },
    {
      "cell_type": "markdown",
      "metadata": {
        "id": "aRu299f3sLmn"
      },
      "source": [
        "We also calculate the average message (or block) error rate of the mini-batch by hard-deciding the receiver’s output on the element with the highest probability (argmax)."
      ]
    },
    {
      "cell_type": "code",
      "metadata": {
        "id": "nkw6F3jdHm4-"
      },
      "source": [
        "# Metrics\n",
        "correct_predictions = tf.equal(tf.argmax(tf.nn.softmax(s_hat),axis=1,output_type=tf.int32),s)\n",
        "accuracy = tf.reduce_mean(tf.cast(correct_predictions,dtype=tf.float32))\n",
        "bler = 1.0 - accuracy"
      ],
      "execution_count": null,
      "outputs": []
    },
    {
      "cell_type": "markdown",
      "metadata": {
        "id": "7oBgcZW2sOsV"
      },
      "source": [
        "Finally, we need to define an optimizer algorithm that updates the weights of our autoencoder according to the current loss and the gradient of the batch. We chose the Adam optimizer to minimize our loss function and use a placeholder as learning rate to be able to adjust this hyperparameter during training."
      ]
    },
    {
      "cell_type": "code",
      "metadata": {
        "id": "tN4X-FfsMkDn"
      },
      "source": [
        "# Optimizer\n",
        "lr = tf.placeholder(dtype=tf.float32,shape=[])\n",
        "train_op = tf.train.AdamOptimizer(learning_rate=lr).minimize(cross_entropy)"
      ],
      "execution_count": null,
      "outputs": []
    },
    {
      "cell_type": "markdown",
      "metadata": {
        "id": "urH_QF4esSrM"
      },
      "source": [
        "Now that the tensorflow graph is defined, we need to create a tensorflow session that can run the graph.\n",
        "\n",
        "After creating the session all trainable variables need to be initialized. Since the used tensorflow/keras layers already define functions to create their initial weights, we simply need to run the global variables initializer and all weights are ready to go."
      ]
    },
    {
      "cell_type": "code",
      "metadata": {
        "id": "LcW4A_WdNhqV"
      },
      "source": [
        "sess = tf.Session()\n",
        "sess.run(tf.global_variables_initializer())"
      ],
      "execution_count": null,
      "outputs": []
    },
    {
      "cell_type": "markdown",
      "metadata": {
        "id": "6anL-cDtsW3N"
      },
      "source": [
        "Before we start with the training, we need to formulate an SNR definition, so that we can easily train at a desired SNR point. This function simply calculates the noise standard deviation for a given SNR (while signal power is normalized to 1.0)."
      ]
    },
    {
      "cell_type": "code",
      "metadata": {
        "id": "ZxHN5oAGUzJ6"
      },
      "source": [
        "def EbNo2Sigma(ebnodb):\n",
        "  '''Convert Eb/No in dB to noise standard deviation'''\n",
        "  ebno = 10**(ebnodb/10)\n",
        "  bits_per_complex_symbol = k/(n/2)\n",
        "  return 1.0/np.sqrt(bits_per_complex_symbol*ebno)"
      ],
      "execution_count": null,
      "outputs": []
    },
    {
      "cell_type": "markdown",
      "metadata": {
        "id": "mcZLIsbOsdho"
      },
      "source": [
        "Now we can begin with the training. We start with 1,000 iterations of running the train_op function with a small batch_size of only 100 messages and a learning rate of 0.001. After this first training epoch we reduce the learning rate to 0.0001 and run another epoch with 10,000 iterations. For the last training epoch we raise the batch size to 1,000 and run another 10,000 iterations. During all training epochs we set the SNR to 7.0 dB as we figured that training the autoencoder at a BLER of around 0.01 leads to a fast generalization."
      ]
    },
    {
      "cell_type": "code",
      "metadata": {
        "id": "0GAb9MUDSdOK"
      },
      "source": [
        "for i in range(1000):\n",
        "  sess.run(train_op, feed_dict={batch_size: 100, noise_std: EbNo2Sigma(7.0), lr: 0.001})\n",
        "\n",
        "for i in range(10000):\n",
        "  sess.run(train_op, feed_dict={batch_size: 100, noise_std: EbNo2Sigma(7.0), lr: 0.0001})\n",
        "\n",
        "for i in range(10000):\n",
        "  sess.run(train_op, feed_dict={batch_size: 1000, noise_std: EbNo2Sigma(7.0), lr: 0.0001})"
      ],
      "execution_count": null,
      "outputs": []
    },
    {
      "cell_type": "markdown",
      "metadata": {
        "id": "sfpyceN3si7v"
      },
      "source": [
        "So, let’s check the performance of the autoencoder by plotting its BLER vs SNR over a range of SNR. Therefore, we need to run a Monte Carlo simulation to get an accurate BLER for each SNR point. In this example we simulate the BLER from 0 to 14dB by running 10 mini-batches of 100,000 messages for each SNR point."
      ]
    },
    {
      "cell_type": "code",
      "metadata": {
        "id": "pQZl8R82X_jX"
      },
      "source": [
        "snr_range = np.linspace(0,14,15)\n",
        "monte_carlo_bler = np.zeros((len(snr_range),))\n",
        "for i in range(len(snr_range)):\n",
        "  for j in range(10):\n",
        "    monte_carlo_bler[i] += sess.run(bler, feed_dict={batch_size: 100000, noise_std: EbNo2Sigma(snr_range[i]), lr: 0.0})\n",
        "monte_carlo_bler = monte_carlo_bler / 10"
      ],
      "execution_count": null,
      "outputs": []
    },
    {
      "cell_type": "markdown",
      "metadata": {
        "id": "yRAO3iT_sn-1"
      },
      "source": [
        "Finally, we plot the BLER vs SNR using matplotlib."
      ]
    },
    {
      "cell_type": "code",
      "metadata": {
        "id": "IYvYap7zh8Bm",
        "colab": {
          "base_uri": "https://localhost:8080/",
          "height": 528
        },
        "outputId": "279493e9-7684-4d50-f212-59ac099ae726"
      },
      "source": [
        "plt.figure(figsize=(10,8))\n",
        "plt.plot(snr_range, monte_carlo_bler, linewidth=2.0)\n",
        "plt.legend(['Autoencoder'], prop={'size': 16}, loc='upper right');\n",
        "plt.yscale('log')\n",
        "plt.xlabel('EbNo (dB)', fontsize=18)\n",
        "plt.ylabel('Block-error rate', fontsize=18)\n",
        "plt.grid(True)\n",
        "plt.ylim([1e-5,1])"
      ],
      "execution_count": null,
      "outputs": [
        {
          "output_type": "execute_result",
          "data": {
            "text/plain": [
              "(1e-05, 1)"
            ]
          },
          "metadata": {
            "tags": []
          },
          "execution_count": 17
        },
        {
          "output_type": "display_data",
          "data": {
            "image/png": "[encoded data removed]",
            "text/plain": [
              "<Figure size 720x576 with 1 Axes>"
            ]
          },
          "metadata": {
            "tags": [],
            "needs_background": "light"
          }
        }
      ]
    },
    {
      "cell_type": "markdown",
      "metadata": {
        "id": "3hCxVtq4sp_U"
      },
      "source": [
        "One could now compare this performance with other modulation schemes. In the example linked colabolatory example we also provide the uncoded BLER of the quadrature phase shift keying (QPSK) modulation scheme."
      ]
    },
    {
      "cell_type": "code",
      "metadata": {
        "id": "Skk1Rk_ZZpYt",
        "colab": {
          "base_uri": "https://localhost:8080/",
          "height": 528
        },
        "outputId": "e2e9304b-55bd-4600-ba82-9fe33b38dc86"
      },
      "source": [
        "BLER_QPSK_k8n8 = np.array([4.818329E-01, 3.720104E-01, 2.645386E-01, 1.698987E-01, 9.636992E-02, 4.703772E-02, 1.914436E-02, 6.244719E-03, 1.551032E-03, 2.745986E-04, 3.194809E-05, 2.384186E-06, 0.000000E+00, 0.000000E+00, 0.000000E+00])\n",
        "\n",
        "plt.figure(figsize=(10,8))\n",
        "plt.plot(snr_range, monte_carlo_bler, linewidth=2.0)\n",
        "plt.plot(snr_range, BLER_QPSK_k8n8, linewidth=2.0)\n",
        "plt.legend(['Autoencoder', 'QPSK'], prop={'size': 16}, loc='upper right');\n",
        "plt.yscale('log')\n",
        "plt.xlabel('EbNo (dB)', fontsize=18)\n",
        "plt.ylabel('Block-error rate', fontsize=18)\n",
        "plt.grid(True)\n",
        "plt.ylim([1e-5,1])"
      ],
      "execution_count": null,
      "outputs": [
        {
          "output_type": "execute_result",
          "data": {
            "text/plain": [
              "(1e-05, 1)"
            ]
          },
          "metadata": {
            "tags": []
          },
          "execution_count": 18
        },
        {
          "output_type": "display_data",
          "data": {
            "image/png": "[encoded data removed]",
            "text/plain": [
              "<Figure size 720x576 with 1 Axes>"
            ]
          },
          "metadata": {
            "tags": [],
            "needs_background": "light"
          }
        }
      ]
    },
    {
      "cell_type": "code",
      "metadata": {
        "id": "hJPl2aAkcnG5"
      },
      "source": [
        ""
      ],
      "execution_count": null,
      "outputs": []
    }
  ]
}